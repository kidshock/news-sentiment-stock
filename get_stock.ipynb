{
 "cells": [
  {
   "cell_type": "code",
   "execution_count": 4,
   "metadata": {},
   "outputs": [
    {
     "name": "stderr",
     "output_type": "stream",
     "text": [
      "[*********************100%***********************]  1 of 1 completed\n"
     ]
    }
   ],
   "source": [
    "import pandas as pd\n",
    "\n",
    "def download_stock_data(ticker, start, end):\n",
    "    \"\"\"\n",
    "    download stock price data from Yahoo Finance\n",
    "    \"\"\"\n",
    "    import yfinance as yf\n",
    "    stock_data = yf.download(ticker, start, end)\n",
    "    df = pd.DataFrame(stock_data)\n",
    "    df.to_csv(\"NVDA_stock1.csv\")\n",
    "\n",
    "\n",
    "download_stock_data(\"NVDA\", \"2021-04-27\", \"2024-10-09\")"
   ]
  },
  {
   "cell_type": "code",
   "execution_count": null,
   "metadata": {},
   "outputs": [],
   "source": [
    "import pandas as pd\n",
    "\n",
    "def download_stock_data(ticker, start, end):\n",
    "    \"\"\"\n",
    "    download stock price data from Yahoo Finance\n",
    "    \"\"\"\n",
    "    import yfinance as yf\n",
    "    stock_data = yf.download(ticker, start, end)\n",
    "    df = pd.DataFrame(stock_data)\n",
    "    df.to_csv(\"NVDA_unseenStock.csv\")\n",
    "\n",
    "\n",
    "download_stock_data(\"NVDA\", \"2024-10-10\", \"2024-10-24\")"
   ]
  }
 ],
 "metadata": {
  "kernelspec": {
   "display_name": "Python 3",
   "language": "python",
   "name": "python3"
  },
  "language_info": {
   "codemirror_mode": {
    "name": "ipython",
    "version": 3
   },
   "file_extension": ".py",
   "mimetype": "text/x-python",
   "name": "python",
   "nbconvert_exporter": "python",
   "pygments_lexer": "ipython3",
   "version": "3.12.1"
  }
 },
 "nbformat": 4,
 "nbformat_minor": 2
}
